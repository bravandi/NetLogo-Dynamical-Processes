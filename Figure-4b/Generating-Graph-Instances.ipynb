{
 "cells": [
  {
   "cell_type": "code",
   "execution_count": null,
   "id": "5f6ec556",
   "metadata": {},
   "outputs": [],
   "source": [
    "import networkx as nx\n",
    "import matplotlib.pyplot as plt\n",
    "from collections import defaultdict\n",
    "import numpy as np\n",
    "import random\n",
    "import time\n",
    "from tqdm import tqdm\n",
    "from itertools import combinations\n",
    "import pandas as pd\n",
    "from sklearn.linear_model import LinearRegression\n",
    "import matplotlib as mpl\n",
    "import datetime\n",
    "import math\n",
    "from scipy.stats import norm, kurtosis, mode\n",
    "cmap = plt.get_cmap('tab10')\n",
    "from scipy.stats import describe\n",
    "import seaborn as sns\n",
    "from matplotlib.pyplot import figure\n",
    "import pickle"
   ]
  },
  {
   "cell_type": "code",
   "execution_count": null,
   "id": "1a1fa9b0",
   "metadata": {},
   "outputs": [],
   "source": [
    "m = 3\n",
    "n=1000\n",
    "\n",
    "for _ in tqdm(range(100)): ## 100 graph instances\n",
    "\n",
    "    G_BA = nx.barabasi_albert_graph(n, m)\n",
    "    k_avg = np.mean([G_BA.degree(node_BA) for node_BA in list(G_BA.nodes())])\n",
    "    p = k_avg / (n-1)\n",
    "    G_ER = nx.erdos_renyi_graph(n, p)\n",
    "    \n",
    "    pickle.dump(G_BA, open('data/4b-BA-instance-' + str(_) + '.pickle', 'wb'))\n",
    "    pickle.dump(G_ER, open('data/4b-ER-instance-' + str(_) + '.pickle', 'wb'))"
   ]
  }
 ],
 "metadata": {
  "kernelspec": {
   "display_name": "Python 3 (ipykernel)",
   "language": "python",
   "name": "python3"
  },
  "language_info": {
   "codemirror_mode": {
    "name": "ipython",
    "version": 3
   },
   "file_extension": ".py",
   "mimetype": "text/x-python",
   "name": "python",
   "nbconvert_exporter": "python",
   "pygments_lexer": "ipython3",
   "version": "3.9.12"
  }
 },
 "nbformat": 4,
 "nbformat_minor": 5
}
