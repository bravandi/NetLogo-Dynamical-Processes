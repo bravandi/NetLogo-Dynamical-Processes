{
 "cells": [
  {
   "cell_type": "code",
   "execution_count": 1,
   "id": "aa1b49d1",
   "metadata": {},
   "outputs": [],
   "source": [
    "import networkx as nx\n",
    "import matplotlib.pyplot as plt\n",
    "from collections import defaultdict\n",
    "import numpy as np\n",
    "import random\n",
    "import time\n",
    "from tqdm import tqdm\n",
    "from itertools import combinations\n",
    "import pandas as pd\n",
    "from sklearn.linear_model import LinearRegression\n",
    "import matplotlib as mpl\n",
    "import datetime\n",
    "import math\n",
    "from scipy.stats import norm, kurtosis, mode\n",
    "cmap = plt.get_cmap('tab10')\n",
    "from scipy.stats import describe\n",
    "import seaborn as sns\n",
    "from matplotlib.pyplot import figure\n",
    "import pickle"
   ]
  },
  {
   "cell_type": "code",
   "execution_count": 2,
   "id": "6e510018",
   "metadata": {},
   "outputs": [
    {
     "name": "stderr",
     "output_type": "stream",
     "text": [
      "100%|█████████████████████████████████████████████████████████████████████████████████████████████████████████████████████████████████████████████████████████████████████████████████████████████████████████████████████████| 13/13 [04:20<00:00, 20.06s/it]\n"
     ]
    }
   ],
   "source": [
    "k_avg_list = [4,4.5,5,5.5,6,6.5,7,7.5,8,8.5,9,9.5,10]\n",
    "n=2000\n",
    "\n",
    "for k_avg in tqdm(k_avg_list):\n",
    "\n",
    "    p = k_avg / (n-1)\n",
    "    \n",
    "    for _ in range(100): ## 100 instances\n",
    "        \n",
    "        G = nx.erdos_renyi_graph(n, p)\n",
    "        Gcc = sorted(nx.connected_components(G), key=len, reverse=True)\n",
    "        G_ER = G.subgraph(Gcc[0])\n",
    "        pickle.dump(G_ER, open('data/5b-ER-k_avg' + str(k_avg) + 'instance-' + str(_) + '.pickle', 'wb'))"
   ]
  },
  {
   "cell_type": "code",
   "execution_count": null,
   "id": "bbf1aedf",
   "metadata": {},
   "outputs": [],
   "source": []
  }
 ],
 "metadata": {
  "kernelspec": {
   "display_name": "Python 3 (ipykernel)",
   "language": "python",
   "name": "python3"
  },
  "language_info": {
   "codemirror_mode": {
    "name": "ipython",
    "version": 3
   },
   "file_extension": ".py",
   "mimetype": "text/x-python",
   "name": "python",
   "nbconvert_exporter": "python",
   "pygments_lexer": "ipython3",
   "version": "3.9.12"
  }
 },
 "nbformat": 4,
 "nbformat_minor": 5
}
