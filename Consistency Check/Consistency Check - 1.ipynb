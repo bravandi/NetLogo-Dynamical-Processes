{
 "cells": [
  {
   "cell_type": "code",
   "execution_count": 42,
   "metadata": {},
   "outputs": [],
   "source": [
    "import networkx as nx\n",
    "import matplotlib.pyplot as plt\n",
    "from collections import defaultdict\n",
    "import numpy as np\n",
    "import random\n",
    "import pandas as pd\n",
    "import time\n",
    "from tqdm import tqdm\n",
    "from itertools import combinations\n",
    "import pandas as pd\n",
    "from sklearn.linear_model import LinearRegression\n",
    "import matplotlib as mpl\n",
    "import datetime\n",
    "import math\n",
    "from scipy.stats import norm"
   ]
  },
  {
   "cell_type": "code",
   "execution_count": 8,
   "metadata": {},
   "outputs": [],
   "source": [
    "rn_list_5pre = []\n",
    "rn_list_50pre = []\n",
    "rn_list_95pre = []"
   ]
  },
  {
   "cell_type": "code",
   "execution_count": 7,
   "metadata": {},
   "outputs": [],
   "source": [
    "G = nx.read_adjlist('G_N_nodes_180_k_avg_5.9_rntest2.adjlist')"
   ]
  },
  {
   "cell_type": "code",
   "execution_count": 25,
   "metadata": {},
   "outputs": [
    {
     "data": {
      "text/plain": [
       "True"
      ]
     },
     "execution_count": 25,
     "metadata": {},
     "output_type": "execute_result"
    }
   ],
   "source": [
    "nx.is_connected(G)"
   ]
  },
  {
   "cell_type": "code",
   "execution_count": 19,
   "metadata": {},
   "outputs": [],
   "source": [
    "N_nodes = G_rn.number_of_nodes()\n",
    "initial_node_with_walker = 4\n",
    "N_walkers = 10000\n",
    "p_out = 0.4"
   ]
  },
  {
   "cell_type": "code",
   "execution_count": 31,
   "metadata": {
    "scrolled": true
   },
   "outputs": [
    {
     "name": "stderr",
     "output_type": "stream",
     "text": [
      "100%|████████████████████████████████████████████████████████████████████████████████| 100/100 [47:02<00:00, 28.23s/it]\n"
     ]
    }
   ],
   "source": [
    "rn_result_95_asymmetric_ratio = []\n",
    "\n",
    "for _ in tqdm(range(100)):\n",
    "    \n",
    "    end_time_list = []\n",
    "    \n",
    "    for iter_num in range(100):\n",
    "       \n",
    "        ### Asign the walker\n",
    "        nx.set_node_attributes(G, [0],'history')\n",
    "        initial_walkers = random.sample(list(G.nodes()),initial_node_with_walker)\n",
    "        for i in initial_walkers:\n",
    "            G.nodes[i]['history'] = [N_walkers / initial_node_with_walker]\n",
    "\n",
    "        # the x (expected final distribution of walkers) of the linear regression\n",
    "        walker_per_degree = N_walkers/sum([j for (i,j) in G.degree])\n",
    "        degree_list = np.array([j*walker_per_degree for (i,j) in G.degree])\n",
    "        degree_list = degree_list.reshape(-1,1)\n",
    "        \n",
    "        # Run the simulation model until the R-square over 0.99\n",
    "        linear_score = [0]\n",
    "        end_time = 0\n",
    "        while linear_score[-1] <0.99:\n",
    "            end_time += 1\n",
    "            for nodes in G.nodes:\n",
    "                tem_out_list = [n for n in G.neighbors(nodes)]\n",
    "                tem_in_node = 0\n",
    "                for neigh_node in tem_out_list:\n",
    "                    tem_in_node += G.nodes[neigh_node]['history'][end_time-1] * p_out / len([n for n in G.neighbors(neigh_node)])\n",
    "                G.nodes[nodes]['history'] = G.nodes[nodes]['history']+[tem_in_node + G.nodes[nodes]['history'][end_time-1] * (1-p_out)]\n",
    "            ## Run the linear regression\n",
    "            check_list = []\n",
    "            for nodes in G.nodes:\n",
    "                check_list.append(G.nodes[nodes]['history'][-1])\n",
    "            reg = LinearRegression().fit(degree_list, check_list)\n",
    "            linear_score.append(reg.score(degree_list, check_list))\n",
    "        # record the end time of each simulation    \n",
    "        end_time_list.append(end_time)\n",
    "    \n",
    "    #rn_list_5pre.append(np.percentile(end_time_list, 5))\n",
    "    #rn_list_50pre.append(np.percentile(end_time_list, 50))\n",
    "    #rn_list_95pre.append(np.percentile(end_time_list, 95))\n",
    "    \n",
    "    tem_min = np.percentile(end_time_list, 5)\n",
    "    tem_50 = np.percentile(end_time_list, 50)\n",
    "    tem_max = np.percentile(end_time_list, 95)\n",
    "\n",
    "    rn_result_95_asymmetric_ratio.append(round(((tem_max-tem_50)-(tem_50-tem_min))/tem_50,3))"
   ]
  },
  {
   "cell_type": "code",
   "execution_count": 37,
   "metadata": {},
   "outputs": [
    {
     "data": {
      "image/png": "[encoded data removed]",
      "text/plain": [
       "<Figure size 432x288 with 1 Axes>"
      ]
     },
     "metadata": {
      "needs_background": "light"
     },
     "output_type": "display_data"
    }
   ],
   "source": [
    "mean,std=norm.fit(rn_result_95_asymmetric_ratio)\n",
    "\n",
    "plt.title('Distribution of Asymmetry Ratio')\n",
    "plt.hist(rn_result_95_asymmetric_ratio,density=True,bins=10)\n",
    "xmin, xmax = plt.xlim()\n",
    "x = np.linspace(xmin, xmax, 100)\n",
    "y = norm.pdf(x, mean, std)\n",
    "plt.plot(x, y)\n",
    "plt.xlabel('Asymmetry Ratio')\n",
    "plt.ylabel('PDF')\n",
    "plt.show()"
   ]
  },
  {
   "cell_type": "code",
   "execution_count": 43,
   "metadata": {},
   "outputs": [
    {
     "name": "stdout",
     "output_type": "stream",
     "text": [
      "p-value for asymmetry ratio threshold:  0.26672954679856986\n"
     ]
    }
   ],
   "source": [
    "print('p-value for asymmetry ratio threshold: ', 1 - norm(mean, std).cdf(0.2))"
   ]
  },
  {
   "cell_type": "code",
   "execution_count": null,
   "metadata": {},
   "outputs": [],
   "source": []
  }
 ],
 "metadata": {
  "kernelspec": {
   "display_name": "Python 3",
   "language": "python",
   "name": "python3"
  },
  "language_info": {
   "codemirror_mode": {
    "name": "ipython",
    "version": 3
   },
   "file_extension": ".py",
   "mimetype": "text/x-python",
   "name": "python",
   "nbconvert_exporter": "python",
   "pygments_lexer": "ipython3",
   "version": "3.7.7"
  }
 },
 "nbformat": 4,
 "nbformat_minor": 4
}
